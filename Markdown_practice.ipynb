{
 "cells": [
  {
   "cell_type": "markdown",
   "id": "b7be4447",
   "metadata": {},
   "source": [
    "# Very Big\n",
    "## Less Big\n",
    "##### As small as it gets"
   ]
  },
  {
   "cell_type": "markdown",
   "id": "6064fefc",
   "metadata": {},
   "source": [
    "## Practice markdown\n",
    "\n",
    "Text that is not a quote\n",
    "\n",
    "> Text that is a quote\n",
    "\n",
    "\n",
    "Some basic Git commands are:\n",
    "```\n",
    "git status\n",
    "git add\n",
    "git commit\n",
    "```\n",
    "\n"
   ]
  },
  {
   "cell_type": "code",
   "execution_count": 2,
   "id": "d96433e2",
   "metadata": {},
   "outputs": [
    {
     "name": "stdout",
     "output_type": "stream",
     "text": [
      "hello world\n"
     ]
    }
   ],
   "source": [
    "print(\"hello world\")"
   ]
  }
 ],
 "metadata": {
  "kernelspec": {
   "display_name": "Python 3 (ipykernel)",
   "language": "python",
   "name": "python3"
  },
  "language_info": {
   "codemirror_mode": {
    "name": "ipython",
    "version": 3
   },
   "file_extension": ".py",
   "mimetype": "text/x-python",
   "name": "python",
   "nbconvert_exporter": "python",
   "pygments_lexer": "ipython3",
   "version": "3.8.12"
  }
 },
 "nbformat": 4,
 "nbformat_minor": 5
}
